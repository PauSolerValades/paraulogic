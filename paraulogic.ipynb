{
 "cells": [
  {
   "cell_type": "code",
   "execution_count": 167,
   "metadata": {},
   "outputs": [],
   "source": [
    "import numpy as np\n",
    "import json"
   ]
  },
  {
   "cell_type": "markdown",
   "metadata": {},
   "source": [
    "Primer posem en una llista totes les entrades de les paraules:"
   ]
  },
  {
   "cell_type": "code",
   "execution_count": 168,
   "metadata": {},
   "outputs": [],
   "source": [
    "lst = []\n",
    "with open(\"paraules_processades.json\", \"r\", encoding=\"utf-8\") as f:\n",
    "    for line in f:\n",
    "        data = json.loads(line)\n",
    "        lst.append(data)"
   ]
  },
  {
   "cell_type": "markdown",
   "metadata": {},
   "source": [
    "Ens quedem només amb la pròpia paraula:"
   ]
  },
  {
   "cell_type": "code",
   "execution_count": 184,
   "metadata": {},
   "outputs": [],
   "source": [
    "diccionari = np.array([entry['word'].lower() for entry in lst])"
   ]
  },
  {
   "cell_type": "code",
   "execution_count": 185,
   "metadata": {},
   "outputs": [
    {
     "data": {
      "text/plain": [
       "(140121,)"
      ]
     },
     "execution_count": 185,
     "metadata": {},
     "output_type": "execute_result"
    }
   ],
   "source": [
    "diccionari.shape"
   ]
  },
  {
   "cell_type": "markdown",
   "metadata": {},
   "source": [
    "Eliminem totes les paraules amb espais:"
   ]
  },
  {
   "cell_type": "code",
   "execution_count": 186,
   "metadata": {},
   "outputs": [
    {
     "data": {
      "text/plain": [
       "(138514,)"
      ]
     },
     "execution_count": 186,
     "metadata": {},
     "output_type": "execute_result"
    }
   ],
   "source": [
    "bools = [paraula.find(\" \") == -1 for paraula in diccionari]\n",
    "diccionari = diccionari[bools]\n",
    "\n",
    "diccionari.shape"
   ]
  },
  {
   "cell_type": "markdown",
   "metadata": {},
   "source": [
    "Elmiminem totes les paraules compostes o prefixos:"
   ]
  },
  {
   "cell_type": "code",
   "execution_count": 187,
   "metadata": {},
   "outputs": [
    {
     "data": {
      "text/plain": [
       "(137252,)"
      ]
     },
     "execution_count": 187,
     "metadata": {},
     "output_type": "execute_result"
    }
   ],
   "source": [
    "bools = [paraula.find(\"-\") == -1 for paraula in diccionari]\n",
    "diccionari = diccionari[bools]\n",
    "\n",
    "diccionari.shape"
   ]
  },
  {
   "cell_type": "markdown",
   "metadata": {},
   "source": [
    "La funció va filtrant el diccionari a mesura que va trobant lletres que no poden ser dins la paraula."
   ]
  },
  {
   "cell_type": "code",
   "execution_count": 194,
   "metadata": {},
   "outputs": [],
   "source": [
    "def paraulogic(lletra_necessaria, lletres, dic, ABC):\n",
    "    \"\"\"\n",
    "    args:\n",
    "        lletra_necessaria: char del caracter de la lletra que la paraula ha de tenir\n",
    "        lletres: string amb totes les lletres que la paraula pot tenir.\n",
    "        dic: diccionari amb totes les paraules on buscar\n",
    "        ABC: string amb totes les paraules en les que busquem\n",
    "    return: llista de paraules que compleixien les requisits\n",
    "    \"\"\"\n",
    "    #elminiem de l'abecedari la lletra necessaria i les lletres\n",
    "    no_lletres = [lletra for lletra in ABECEDARI if lletra not in (lletres+lletra_necessaria)]\n",
    "    \n",
    "    #eliminem totes les paraules que no continguin g\n",
    "    nomes_lletra = [paraula.find(lletra_necessaria) != -1 for paraula in dic]\n",
    "    dic = dic[nomes_lletra]\n",
    "    \n",
    "    #eliminem totes les paraules que continguin alguna lletra de lletres\n",
    "    for lletra in no_lletres:\n",
    "        filtre = [p.find(lletra) == -1 for p in dic]\n",
    "        dic = dic[filtre]\n",
    "        \n",
    "    return dic"
   ]
  },
  {
   "cell_type": "code",
   "execution_count": 195,
   "metadata": {},
   "outputs": [
    {
     "data": {
      "text/plain": [
       "array(['goa', 'gr', 'granada', 'granada', 'granada', 'droga', 'agradar',\n",
       "       'rang', 'gran', 'gran', 'agar', 'granada', 'grana', 'grana',\n",
       "       'grana', 'draga', 'gana', 'gra', 'drago', 'gorra', 'garra',\n",
       "       'grada', 'grano', 'drogo', 'goda', 'goda', 'daga', 'drogar',\n",
       "       'granar', 'doga', 'agradaran', 'agrada', 'agrado', 'drogaran',\n",
       "       'ganxo', 'granaran', 'drogada', 'agra', 'agradada', 'dragaran',\n",
       "       'dragar', 'dragar', 'dragada', 'grogor', 'grandor', 'groga', 'dg.',\n",
       "       'gronxar', 'garona', 'gronxador', 'xaranga'], dtype='<U40')"
      ]
     },
     "execution_count": 195,
     "metadata": {},
     "output_type": "execute_result"
    }
   ],
   "source": [
    "ABECEDARI = 'abcdefghijklmnopqrstuvxyzàáòóúíèéïüöäç·'\n",
    "\n",
    "paraules = paraulogic('g', 'roaxdn', diccionari, ABECEDARI)\n",
    "paraules"
   ]
  },
  {
   "cell_type": "code",
   "execution_count": 190,
   "metadata": {},
   "outputs": [],
   "source": [
    "with open(\"resultats.txt\", \"w\", encoding=\"utf-8\") as f:\n",
    "    for paraula in paraules:\n",
    "        f.write(paraula+\"\\n\")\n",
    "f.close()"
   ]
  },
  {
   "cell_type": "code",
   "execution_count": null,
   "metadata": {},
   "outputs": [],
   "source": []
  }
 ],
 "metadata": {
  "kernelspec": {
   "display_name": "Python 3",
   "language": "python",
   "name": "python3"
  },
  "language_info": {
   "codemirror_mode": {
    "name": "ipython",
    "version": 3
   },
   "file_extension": ".py",
   "mimetype": "text/x-python",
   "name": "python",
   "nbconvert_exporter": "python",
   "pygments_lexer": "ipython3",
   "version": "3.8.10"
  }
 },
 "nbformat": 4,
 "nbformat_minor": 4
}
