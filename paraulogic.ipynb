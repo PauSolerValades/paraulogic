{
 "cells": [
  {
   "cell_type": "code",
   "execution_count": 70,
   "metadata": {},
   "outputs": [],
   "source": [
    "import numpy as np\n",
    "import json"
   ]
  },
  {
   "cell_type": "markdown",
   "metadata": {},
   "source": [
    "Primer posem en una llista totes les entrades de les paraules:"
   ]
  },
  {
   "cell_type": "code",
   "execution_count": 127,
   "metadata": {},
   "outputs": [],
   "source": [
    "lst = []\n",
    "with open(\"paraules_processades.json\", \"r\", encoding=\"utf-8\") as f:\n",
    "    for line in f:\n",
    "        data = json.loads(line)\n",
    "        lst.append(data)"
   ]
  },
  {
   "cell_type": "code",
   "execution_count": null,
   "metadata": {},
   "outputs": [],
   "source": [
    "#faltaria filtrar les conjugacions dels verbs, deixar només l'infinitu."
   ]
  },
  {
   "cell_type": "markdown",
   "metadata": {},
   "source": [
    "Ens quedem només amb la pròpia paraula:"
   ]
  },
  {
   "cell_type": "code",
   "execution_count": 72,
   "metadata": {},
   "outputs": [
    {
     "name": "stdout",
     "output_type": "stream",
     "text": [
      "instrumental\n"
     ]
    }
   ],
   "source": [
    "diccionari = np.array([entry['word'].lower() for entry in lst])"
   ]
  },
  {
   "cell_type": "code",
   "execution_count": 47,
   "metadata": {},
   "outputs": [
    {
     "data": {
      "text/plain": [
       "(140121,)"
      ]
     },
     "execution_count": 47,
     "metadata": {},
     "output_type": "execute_result"
    }
   ],
   "source": [
    "diccionari.shape"
   ]
  },
  {
   "cell_type": "markdown",
   "metadata": {},
   "source": [
    "Eliminem totes les paraules amb espais:"
   ]
  },
  {
   "cell_type": "code",
   "execution_count": 48,
   "metadata": {},
   "outputs": [
    {
     "data": {
      "text/plain": [
       "(138514,)"
      ]
     },
     "execution_count": 48,
     "metadata": {},
     "output_type": "execute_result"
    }
   ],
   "source": [
    "bools = [paraula.find(\" \") == -1 for paraula in diccionari]\n",
    "diccionari = diccionari[bools]\n",
    "\n",
    "diccionari.shape"
   ]
  },
  {
   "cell_type": "markdown",
   "metadata": {},
   "source": [
    "Eliminem totes les paraules compostes o prefixos:"
   ]
  },
  {
   "cell_type": "code",
   "execution_count": 49,
   "metadata": {},
   "outputs": [
    {
     "data": {
      "text/plain": [
       "(137252,)"
      ]
     },
     "execution_count": 49,
     "metadata": {},
     "output_type": "execute_result"
    }
   ],
   "source": [
    "bools = [paraula.find(\"-\") == -1 for paraula in diccionari]\n",
    "diccionari = diccionari[bools]\n",
    "\n",
    "diccionari.shape"
   ]
  },
  {
   "cell_type": "code",
   "execution_count": 50,
   "metadata": {},
   "outputs": [
    {
     "data": {
      "text/plain": [
       "(137230,)"
      ]
     },
     "execution_count": 50,
     "metadata": {},
     "output_type": "execute_result"
    }
   ],
   "source": [
    "bools = [len(paraula) > 1 for paraula in diccionari]\n",
    "diccionari = diccionari[bools]\n",
    "\n",
    "diccionari.shape"
   ]
  },
  {
   "cell_type": "markdown",
   "metadata": {},
   "source": [
    "Canviem totes les dièresis i accents per les lletres normals, ja que per buscar no es té en compte."
   ]
  },
  {
   "cell_type": "code",
   "execution_count": 51,
   "metadata": {},
   "outputs": [
    {
     "data": {
      "text/plain": [
       "137230"
      ]
     },
     "execution_count": 51,
     "metadata": {},
     "output_type": "execute_result"
    }
   ],
   "source": [
    "LLETRES_RARES = \"àòóúíèéïü\"\n",
    "\n",
    "#això segur que hi ha una manera més elegant de fer-ho, això això va\n",
    "\n",
    "diccionari = [paraula.replace(\"à\",\"a\") for paraula in diccionari]\n",
    "\n",
    "diccionari = [paraula.replace(\"ò\",\"o\") for paraula in diccionari]\n",
    "diccionari = [paraula.replace(\"ó\",\"o\") for paraula in diccionari]\n",
    "\n",
    "diccionari = [paraula.replace(\"í\",\"i\") for paraula in diccionari]\n",
    "diccionari = [paraula.replace(\"ï\",\"i\") for paraula in diccionari]\n",
    "\n",
    "diccionari = [paraula.replace(\"ú\",\"u\") for paraula in diccionari]\n",
    "diccionari = [paraula.replace(\"ü\",\"u\") for paraula in diccionari]\n",
    "\n",
    "diccionari = [paraula.replace(\"è\",\"e\") for paraula in diccionari]\n",
    "diccionari = [paraula.replace(\"é\",\"e\") for paraula in diccionari]\n",
    "\n",
    "len(diccionari)"
   ]
  },
  {
   "cell_type": "code",
   "execution_count": 57,
   "metadata": {},
   "outputs": [
    {
     "data": {
      "text/plain": [
       "(120570,)"
      ]
     },
     "execution_count": 57,
     "metadata": {},
     "output_type": "execute_result"
    }
   ],
   "source": [
    "dicc_no_repiques = set(diccionari) #elimina els repetits\n",
    "\n",
    "diccionari = np.array(list(dicc_no_repiques))\n",
    "\n",
    "diccionari.shape"
   ]
  },
  {
   "cell_type": "markdown",
   "metadata": {},
   "source": [
    "La funció va filtrant el diccionari a mesura que va trobant lletres que no poden ser dins la paraula."
   ]
  },
  {
   "cell_type": "code",
   "execution_count": 60,
   "metadata": {},
   "outputs": [],
   "source": [
    "def paraulogic(lletra_necessaria, lletres, dic, ABC):\n",
    "    \"\"\"\n",
    "    args:\n",
    "        lletra_necessaria: char del caracter de la lletra que la paraula ha de tenir\n",
    "        lletres: string amb totes les lletres que la paraula pot tenir.\n",
    "        dic: diccionari amb totes les paraules on buscar\n",
    "        ABC: string amb totes les paraules en les que busquem\n",
    "    return: llista de paraules que compleixien les requisits\n",
    "    \"\"\"\n",
    "    #elminiem de l'abecedari la lletra necessaria i les lletres\n",
    "    no_lletres = [lletra for lletra in ABECEDARI if lletra not in (lletres+lletra_necessaria)]\n",
    "    \n",
    "    #eliminem totes les paraules que no continguin g\n",
    "    nomes_lletra = [paraula.find(lletra_necessaria) != -1 for paraula in dic]\n",
    "    dic = dic[nomes_lletra]\n",
    "    \n",
    "    #eliminem totes les paraules que continguin alguna lletra de lletres\n",
    "    for lletra in no_lletres:\n",
    "        filtre = [p.find(lletra) == -1 for p in dic]\n",
    "        dic = dic[filtre]\n",
    "        \n",
    "    return dic"
   ]
  },
  {
   "cell_type": "code",
   "execution_count": 65,
   "metadata": {},
   "outputs": [
    {
     "data": {
      "text/plain": [
       "array(['pararem', 'atrapem', 'armarem', 'mata', 'amarar', 'arma', 'marta',\n",
       "       'empatem', 'retem', 'mer', 'erm', 'matar', 'permetem', 'emetre',\n",
       "       'rematat', 'mar', 'remar', 'amarrat', 'mama', 'permetrem',\n",
       "       'amarare', 'empararem', 'trama', 'emet', 'ema', 'mare', 'amarrar',\n",
       "       'mapa', 'empremtar', 'empat', 'prepararem', 'metre', 'parma',\n",
       "       'temptar', 'atemptarem', 'reparem', 'armare', 'empatarem', 'mem',\n",
       "       'meta', 'armar', 'erem', 'mat', 'amarara', 'metrem', 'teme',\n",
       "       'trametre', 'amarra', 'remat', 'armem', 'trampejar', 'emprara',\n",
       "       'mamem', 'tema', 'emprarem', 'atemptar', 'perpetrem', 'mera',\n",
       "       'armara', 'amare', 'atemptat', 'tempta', 'tram', 'amarat', 'remer',\n",
       "       'ram', 'remera', 'emparara', 'pam', 'temptat', 'retrem', 'arrapem',\n",
       "       'armat', 'trampa', 'permetre', 'amara', 'rematem', 'metra',\n",
       "       'temptara', 'erma', 'parem', 'arraparem', 'marrar', 'reptem',\n",
       "       'remare', 'rematar', 'empra', 'temptem', 'empara', 'emmarat',\n",
       "       'mamare', 'empatare', 'temer', 'apartarem', 'rematare', 'amarrem',\n",
       "       'emparem', 'atemptare', 'rema', 'reterem', 'rem', 'tapem',\n",
       "       'emprat', 'permetra', 'emetra', 'apartem', 'emparat', 'ma',\n",
       "       'amarem', 'marejare', 'ramat', 'preparem', 'amararem', 'emete',\n",
       "       'emetrem', 'temerem', 'matara', 'permete', 'arpejarem', 'ama',\n",
       "       \"m'\", 'marejarem', 'temptare', 'matare', 'amar', 'taparem',\n",
       "       'ampere', 'empatara', 'emparar', 'mamat', 'remem', 'trempar',\n",
       "       'tramar', 'rematara', 'aterrarem', 'mamar', 'empata', 'marejara',\n",
       "       'matem', 'temera', 'atemptem', 'premer', 'remata', 'me',\n",
       "       'emeterem', 'amem', 'tem', 'met', 'tremp', 'mete', 'meterem',\n",
       "       'mamarem', 'matarem', 'amat', 'rajarem', 'retratarem', 'aterrem',\n",
       "       'marea', 'amarrare', 'rampa', 'emprare', 'rematarem',\n",
       "       'perpetrarem', 'temptarem', 'atraparem', 'reptarem', 'atemptara',\n",
       "       'marejar', 'temperat', 'amarrara', 'temem', 'armer', \"'m\",\n",
       "       'aramea', 'temprar', 'permet', 'mareja', 'mampara', 'emparare',\n",
       "       'trepem', 'marejat', 'emprem', 'remara', 'retratem', 'mart', 'ame',\n",
       "       'repararem', 'trempa', 'emetem', 'amarrarem', 'marra', 'trempera',\n",
       "       'emprar', 'parametre', 'atempta', 'empremta', 'treparem',\n",
       "       'empatat', 'terme', 'em', 'ramejar', 'permeterem', 'remetre',\n",
       "       'ampa', 'mamara', 'empatar', 'remarem', 'temere', 'metem', 'matat'],\n",
       "      dtype='<U33')"
      ]
     },
     "execution_count": 65,
     "metadata": {},
     "output_type": "execute_result"
    }
   ],
   "source": [
    "ABECEDARI = 'abcdefghijklmnopqrstuvwxyzç'\n",
    "\n",
    "paraules = paraulogic('m', 'treajp', diccionari, ABECEDARI)\n",
    "paraules"
   ]
  },
  {
   "cell_type": "markdown",
   "metadata": {},
   "source": [
    "Escriu les paraules al fitxer resultats.txt"
   ]
  },
  {
   "cell_type": "code",
   "execution_count": 66,
   "metadata": {},
   "outputs": [],
   "source": [
    "with open(\"resultats.txt\", \"w\", encoding=\"utf-8\") as f:\n",
    "    for paraula in paraules:\n",
    "        f.write(paraula+\"\\n\")\n",
    "f.close()"
   ]
  },
  {
   "cell_type": "code",
   "execution_count": null,
   "metadata": {},
   "outputs": [],
   "source": []
  },
  {
   "cell_type": "code",
   "execution_count": null,
   "metadata": {},
   "outputs": [],
   "source": []
  }
 ],
 "metadata": {
  "kernelspec": {
   "display_name": "Python 3",
   "language": "python",
   "name": "python3"
  },
  "language_info": {
   "codemirror_mode": {
    "name": "ipython",
    "version": 3
   },
   "file_extension": ".py",
   "mimetype": "text/x-python",
   "name": "python",
   "nbconvert_exporter": "python",
   "pygments_lexer": "ipython3",
   "version": "3.8.10"
  }
 },
 "nbformat": 4,
 "nbformat_minor": 4
}
